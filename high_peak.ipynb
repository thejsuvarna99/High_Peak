{
 "cells": [
  {
   "cell_type": "code",
   "execution_count": 6,
   "metadata": {},
   "outputs": [
    {
     "name": "stdout",
     "output_type": "stream",
     "text": [
      "enter no of employee2\n"
     ]
    }
   ],
   "source": [
    "input_file=open('input1.txt','r')\n",
    "items={}\n",
    "for line in input_file.readlines():\n",
    "    pos=line.index(':')\n",
    "    items[line[:pos]]=int(line[pos+1:len(line)-1])\n",
    "mat=[]\n",
    "m=list(items.values())\n",
    "mn=max(m)-min(m)\n",
    "for item in items.values():\n",
    "    mat.append([])\n",
    "    for item1 in items.values():\n",
    "        if item < item1:\n",
    "            val=item-item1\n",
    "            mat[-1].append(val)\n",
    "\n",
    "vals=[]\n",
    "i=0\n",
    "reg={}\n",
    "num_employes=int(input(\"enter no of employee\"))\n",
    "for row in mat:\n",
    "    if len(row) >= num_employes:\n",
    "        row_s=sorted(row)\n",
    "        se=row_s[len(row_s)-num_employes:]\n",
    "        val1=-1*se[0]\n",
    "        val2=-1*se[-1]\n",
    "        vals.append(val1-val2)\n",
    "        reg[len(vals)-1]=i\n",
    "    else:\n",
    "        del mat[i]\n",
    "    i=i+1\n",
    "\n",
    "min_val=min(vals)\n",
    "min_pos=vals.index(min_val)\n",
    "poss=reg[1]\n",
    "i=0\n",
    "for item in items:\n",
    "    i=i+1\n",
    "    if(i==poss):\n",
    "        min_item=item\n",
    "sortvalues=list(items.values())\n",
    "sor=sortvalues.sort()\n",
    "\n",
    "find_poss=sortvalues.index(items[item])\n",
    "f = open(\"output.txt\", \"a\")\n",
    "for item1 in items.keys():\n",
    "    if item1 == item:\n",
    "        f.write(item1+\":\"+str(items[item1])+\"\\n\")\n",
    "\n",
    "f.close()"
   ]
  },
  {
   "cell_type": "code",
   "execution_count": null,
   "metadata": {},
   "outputs": [],
   "source": []
  },
  {
   "cell_type": "code",
   "execution_count": null,
   "metadata": {},
   "outputs": [],
   "source": []
  },
  {
   "cell_type": "code",
   "execution_count": null,
   "metadata": {},
   "outputs": [],
   "source": []
  }
 ],
 "metadata": {
  "kernelspec": {
   "display_name": "Python 3",
   "language": "python",
   "name": "python3"
  },
  "language_info": {
   "codemirror_mode": {
    "name": "ipython",
    "version": 3
   },
   "file_extension": ".py",
   "mimetype": "text/x-python",
   "name": "python",
   "nbconvert_exporter": "python",
   "pygments_lexer": "ipython3",
   "version": "3.7.6"
  }
 },
 "nbformat": 4,
 "nbformat_minor": 2
}
